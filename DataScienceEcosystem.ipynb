{
 "cells": [
  {
   "cell_type": "markdown",
   "id": "86b417ed-e510-45c4-a371-ec8aa2467d0a",
   "metadata": {},
   "source": [
    "# Data Science Tools and Ecosystem"
   ]
  },
  {
   "cell_type": "markdown",
   "id": "126e24d9-69da-4f23-9722-fa210431fd93",
   "metadata": {},
   "source": [
    "In this notebook, Data Science Tools and Ecosystem are summarized.\r\n",
    "\r\n"
   ]
  },
  {
   "cell_type": "markdown",
   "id": "43e4f601-1e9c-41fb-9449-f40e026a391d",
   "metadata": {},
   "source": [
    "Some of the popular languages that Data Scientists use are:"
   ]
  },
  {
   "cell_type": "markdown",
   "id": "ffc97dc8-a2e0-47d7-bfee-a171b9046a17",
   "metadata": {},
   "source": [
    "1. Python\n",
    "2. R\n",
    "3. SAS\n",
    "4. SQL"
   ]
  },
  {
   "cell_type": "markdown",
   "id": "c64d9702-9bf8-4f9e-af7f-295caff34c2e",
   "metadata": {},
   "source": [
    "1. Matplotlib\n",
    "2. NumPy\n",
    "3. Scikit-learn\n",
    "4. Pandas\n",
    "5. Seaborn\n",
    "6. SciPy\n",
    "7. Keras\n",
    "8. Pytorch\n",
    "9. Plotly\n",
    "10. Statsmodels\n",
    "11. Scrapy\n",
    "12. TensorFlow\n"
   ]
  },
  {
   "cell_type": "markdown",
   "id": "c3f708c2-7892-456f-8217-2d8436d92a0b",
   "metadata": {},
   "source": [
    "|Data Science Tools|\n",
    "|----|\n",
    "|RStudio|\n",
    "|Apache Spark|\n",
    "|TensorFlow|\n",
    "|Apache Hadoop|\n",
    "|RapidMiner|"
   ]
  },
  {
   "cell_type": "markdown",
   "id": "8eb01011-66cb-4c88-9245-65e0f7de9b4a",
   "metadata": {},
   "source": [
    "### Below are a few examples of evaluating arithmetic expressions in Python"
   ]
  },
  {
   "cell_type": "markdown",
   "id": "93c8f62b-1a17-47e0-bb3c-bc138af97324",
   "metadata": {},
   "source": [
    "This a simple arithmetic expression to mutiply then add integers\n",
    "(3*4)+5"
   ]
  },
  {
   "cell_type": "code",
   "execution_count": 7,
   "id": "455693d9-9127-47a1-bf0b-f2c95c876f34",
   "metadata": {},
   "outputs": [
    {
     "name": "stdout",
     "output_type": "stream",
     "text": [
      "17\n"
     ]
    }
   ],
   "source": [
    "# This a simple arithmetic expression to mutiply then add integers\n",
    "import numpy\n",
    "x=(3*4)+5\n",
    "print(x)"
   ]
  },
  {
   "cell_type": "code",
   "execution_count": 15,
   "id": "a4707673-6f1b-439f-a1d6-53e7a0e621bb",
   "metadata": {},
   "outputs": [
    {
     "name": "stdout",
     "output_type": "stream",
     "text": [
      "3:20:00\n"
     ]
    }
   ],
   "source": [
    "#This will convert 200 minutes to hours by diving by 60\n",
    "import datetime\n",
    "\n",
    "def convert(n):\n",
    "    return str(datetime.timedelta(minutes = n))\n",
    "\n",
    "n=200\n",
    "print(convert(n))"
   ]
  },
  {
   "cell_type": "code",
   "execution_count": 23,
   "id": "786f1a8a-c400-439c-bcee-6a1e5c50cc0a",
   "metadata": {},
   "outputs": [
    {
     "name": "stdout",
     "output_type": "stream",
     "text": [
      "3.3333333333333335\n"
     ]
    }
   ],
   "source": [
    "print(200/60)"
   ]
  },
  {
   "cell_type": "markdown",
   "id": "af368f2d-6529-4c4d-a7fd-3eee21f06dd2",
   "metadata": {},
   "source": [
    "Objectives:\n",
    "* Python\n",
    "* R\n",
    "* SAS\n",
    "* SQL"
   ]
  },
  {
   "cell_type": "markdown",
   "id": "cf58be47-0600-45f2-96f2-d83332c41b11",
   "metadata": {},
   "source": [
    "## Author Andrei "
   ]
  },
  {
   "cell_type": "code",
   "execution_count": null,
   "id": "6528c397-77c6-4030-a7a3-b1ad4d9f4018",
   "metadata": {},
   "outputs": [],
   "source": []
  }
 ],
 "metadata": {
  "kernelspec": {
   "display_name": "anaconda-2024.02-py310",
   "language": "python",
   "name": "conda-env-anaconda-2024.02-py310-py"
  },
  "language_info": {
   "codemirror_mode": {
    "name": "ipython",
    "version": 3
   },
   "file_extension": ".py",
   "mimetype": "text/x-python",
   "name": "python",
   "nbconvert_exporter": "python",
   "pygments_lexer": "ipython3",
   "version": "3.10.14"
  }
 },
 "nbformat": 4,
 "nbformat_minor": 5
}
